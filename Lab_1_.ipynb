{
  "nbformat": 4,
  "nbformat_minor": 0,
  "metadata": {
    "colab": {
      "provenance": [],
      "collapsed_sections": []
    },
    "kernelspec": {
      "name": "python3",
      "display_name": "Python 3"
    },
    "language_info": {
      "name": "python"
    }
  },
  "cells": [
    {
      "cell_type": "code",
      "source": [
        "%%shell\n",
        "jupyter nbconvert --to html /content/Lab_1_.ipynb"
      ],
      "metadata": {
        "colab": {
          "base_uri": "https://localhost:8080/"
        },
        "id": "L5rWf2HZGN-e",
        "outputId": "a317aca3-abde-4555-a704-49fa96d302a3"
      },
      "execution_count": null,
      "outputs": [
        {
          "output_type": "stream",
          "name": "stdout",
          "text": [
            "[NbConvertApp] Converting notebook /content/Lab_1_.ipynb to html\n",
            "[NbConvertApp] Writing 367277 bytes to /content/Lab_1_.html\n"
          ]
        },
        {
          "output_type": "execute_result",
          "data": {
            "text/plain": []
          },
          "metadata": {},
          "execution_count": 4
        }
      ]
    },
    {
      "cell_type": "markdown",
      "source": [
        "Lab -1 "
      ],
      "metadata": {
        "id": "_NCzRyY9EITh"
      }
    },
    {
      "cell_type": "code",
      "source": [
        "from collections import defaultdict\n",
        "class Solution:\n",
        "   def __init__(self, head_name):\n",
        "      self.family = defaultdict(list)\n",
        "      self.head = head_name\n",
        "      self.dead = set()\n",
        "\n",
        "   def birth(self, p_name, c_name):\n",
        "      self.family[p_name].append(c_name)\n",
        "      #print(self.family)\n",
        "\n",
        "   def death(self, name):\n",
        "      self.dead.add(name)\n",
        "      #print(self.dead)\n",
        "\n",
        "   def inheritance(self):\n",
        "      self.ans = []\n",
        "      self.depth_search(self.head)\n",
        "      return self.ans\n",
        "\n",
        "   def depth_search(self, current):\n",
        "      if current not in self.dead:\n",
        "         self.ans.append(current)\n",
        "      for child in self.family[current]:\n",
        "         self.depth_search(child)\n",
        "\n",
        "ob = Solution('Jack')\n",
        "ob.birth('Jack', 'Mack')\n",
        "ob.birth('Jack', 'Rok')\n",
        "ob.birth('Rok', 'Bolt')\n",
        "ob.birth('Rok', 'Nike')\n",
        "ob.birth('Mack', 'John')\n",
        "ob.birth('John', 'Sad')\n",
        "print(ob.inheritance())\n",
        "ob.death('Mack')\n",
        "print(ob.inheritance())\n",
        "ob.death('Rok')\n",
        "print(ob.inheritance())"
      ],
      "metadata": {
        "id": "U03eZTCTEZBy",
        "colab": {
          "base_uri": "https://localhost:8080/"
        },
        "outputId": "57ba671e-2bdf-406d-e1ef-d2c4f0199fde"
      },
      "execution_count": null,
      "outputs": [
        {
          "output_type": "stream",
          "name": "stdout",
          "text": [
            "['Jack', 'Mack', 'John', 'Sad', 'Rok', 'Bolt', 'Nike']\n",
            "['Jack', 'John', 'Sad', 'Rok', 'Bolt', 'Nike']\n",
            "['Jack', 'John', 'Sad', 'Bolt', 'Nike']\n"
          ]
        }
      ]
    },
    {
      "cell_type": "markdown",
      "source": [
        "Lab-2"
      ],
      "metadata": {
        "id": "2908VFitRFlM"
      }
    },
    {
      "cell_type": "code",
      "source": [
        "from collections import defaultdict\n",
        "jug1 = int(input(\"Capacity of the first jug j1 : \"))\n",
        "jug2 = int(input(\"Capacity of the second jug j2 : \"))\n",
        "target = int(input(\"Enter the required capacity : \"))\n",
        "\n",
        "visited = defaultdict(lambda: False)\n",
        "\n",
        "def waterJugSolver(cap1, cap2):\n",
        "\n",
        "  if (cap1 == target and cap2 == 0) or (cap2 == target and cap1 == 0):\n",
        "    print(cap1, cap2)\n",
        "    return True\n",
        "\n",
        "  if visited[(cap1, cap2)] == False:\n",
        "    print(cap1, cap2)\n",
        "    visited[(cap1, cap2)] = True\n",
        "  \n",
        "    return (waterJugSolver(0, cap2) or\n",
        "        waterJugSolver(cap1, 0) or\n",
        "        waterJugSolver(jug1, cap2) or\n",
        "        waterJugSolver(cap1, jug2) or\n",
        "        waterJugSolver(cap1 + min(cap2, (jug1-cap1)),\n",
        "        cap2 - min(cap2, (jug1-cap1))) or\n",
        "        waterJugSolver(cap1 - min(cap1, (jug2-cap2)),\n",
        "        cap2 + min(cap1, (jug2-cap2))))\n",
        "  else:\n",
        "    return False\n",
        "print(\"Steps: \")\n",
        "waterJugSolver(0, 0)"
      ],
      "metadata": {
        "colab": {
          "base_uri": "https://localhost:8080/"
        },
        "id": "Tyf3SCMwRHUS",
        "outputId": "157a7091-6554-491a-ce4c-6fcb245d7958"
      },
      "execution_count": null,
      "outputs": [
        {
          "output_type": "stream",
          "name": "stdout",
          "text": [
            "Capacity of the first jug j1 : 4\n",
            "Capacity of the second jug j2 : 3\n",
            "Enter the required capacity : 2\n",
            "Steps: \n",
            "0 0\n",
            "4 0\n",
            "4 3\n",
            "0 3\n",
            "3 0\n",
            "3 3\n",
            "4 2\n",
            "0 2\n"
          ]
        },
        {
          "output_type": "execute_result",
          "data": {
            "text/plain": [
              "True"
            ]
          },
          "metadata": {},
          "execution_count": 10
        }
      ]
    },
    {
      "cell_type": "code",
      "source": [
        "from collections import "
      ],
      "metadata": {
        "id": "vVofhm7chIU0"
      },
      "execution_count": null,
      "outputs": []
    },
    {
      "cell_type": "markdown",
      "source": [
        "**Lab -3 BFS**"
      ],
      "metadata": {
        "id": "-dk5SwKEHcIl"
      }
    },
    {
      "cell_type": "code",
      "source": [
        "from collections import defaultdict\n",
        "\n",
        "class Graph:\n",
        "\tdef __init__(self):\n",
        "\t\tself.graph = defaultdict(list)\n",
        "\tdef addEdge(self,u,v):\n",
        "\t\tself.graph[u].append(v)\n",
        "\tdef BFS(self, s,key):\n",
        "\t\tvisited = [False] * (len(self.graph)+10)\n",
        "\t\tqueue = []\n",
        "\t\tqueue.append(s)\n",
        "\t\tvisited[s] = True\n",
        "\t\twhile queue:\n",
        "\t\t\ts = queue.pop(0)\n",
        "\t\t\tprint (s, end = \" \")\n",
        "\t\t\tif(s==key):\n",
        "\t\t\t\tbreak\n",
        "\t\t\tfor i in self.graph[s]:\n",
        "\t\t\t\tif visited[i] == False:\n",
        "\t\t\t\t\tqueue.append(i)\n",
        "\t\t\t\t\tvisited[i] = True\n",
        "g = Graph()\n",
        "g.addEdge(4, 5)\n",
        "g.addEdge(5, 3)\n",
        "g.addEdge(4, 3)\n",
        "g.addEdge(2, 5)\n",
        "g.addEdge(2, 4)\n",
        "g.addEdge(3, 2)\n",
        "g.addEdge(3,8)\n",
        "g.addEdge(3,7)\n",
        "g.addEdge(8,7)\n",
        "g.addEdge(2,7)\n",
        "g.addEdge(2,8)\n",
        "print (\"Breadth First Traversal : \")\n",
        "g.BFS(4,8)\n",
        "#g.BFS(0)\n",
        "\n"
      ],
      "metadata": {
        "colab": {
          "base_uri": "https://localhost:8080/"
        },
        "id": "5iYFXRqrHfbh",
        "outputId": "fce05b15-060d-4e27-98dc-a4e0c1650522"
      },
      "execution_count": null,
      "outputs": [
        {
          "output_type": "stream",
          "name": "stdout",
          "text": [
            "Breadth First Traversal (starting from vertex 2)\n",
            "4 5 3 2 8 "
          ]
        }
      ]
    },
    {
      "cell_type": "markdown",
      "source": [
        "**Lab -4 DFS**"
      ],
      "metadata": {
        "id": "U0OZL3n6K3Qf"
      }
    },
    {
      "cell_type": "code",
      "source": [
        "from collections import defaultdict\n",
        "class Graph:\n",
        "\tdef __init__(self):\n",
        "\t\tself.graph = defaultdict(list)\n",
        "\tdef addEdge(self, u, v):\n",
        "\t\tself.graph[u].append(v)\n",
        "\tdef DFSUtil(self, v, visited,key):\n",
        "\t\tvisited.add(v)\n",
        "\t\tprint(v, end=' ')\n",
        "\t\tif(v==key):\n",
        "\t\t\treturn\n",
        "\t\tfor neighbour in self.graph[v]:\n",
        "\t\t\tif(v==key):\n",
        "\t\t\t\tbreak\n",
        "\t\t\tif neighbour not in visited:\n",
        "\t\t\t\tself.DFSUtil(neighbour, visited,key)\n",
        "\tdef DFS(self, v,key):\n",
        "\t\tvisited = set()\n",
        "\t\tself.DFSUtil(v, visited,key)\n",
        "\t\n",
        "if __name__ == \"__main__\":\n",
        "\tg = Graph()\n",
        "\tg.addEdge(4, 5)\n",
        "\tg.addEdge(5, 3)\n",
        "\tg.addEdge(4, 3)\n",
        "\tg.addEdge(2, 5)\n",
        "\tg.addEdge(2, 4)\n",
        "\tg.addEdge(3, 2)\n",
        "\tg.addEdge(3,8)\n",
        "\tg.addEdge(3,7)\n",
        "\tg.addEdge(8,7)\n",
        "\tg.addEdge(2,7)\n",
        "\tg.addEdge(2,8)\n",
        "\tprint(\"Following is DFS from (starting from vertex 2)\")\n",
        "\tg.DFS(4,5)\n"
      ],
      "metadata": {
        "colab": {
          "base_uri": "https://localhost:8080/"
        },
        "id": "sX3WQ6N2K7Dc",
        "outputId": "bd2b697b-7013-4333-b32b-1929a5155f9e"
      },
      "execution_count": null,
      "outputs": [
        {
          "output_type": "stream",
          "name": "stdout",
          "text": [
            "Following is DFS from (starting from vertex 2)\n",
            "4 5 3 2 7 8 "
          ]
        }
      ]
    },
    {
      "cell_type": "code",
      "source": [
        "# depth first search\n",
        "#Depth Limit Search\n",
        "v=14\n",
        "graph=[[] for i in range(v)]\n",
        "visited=[False for i in range(v)]\n",
        "def DFS(s,dest,visited):\n",
        "  if s==dest:\n",
        "    print(s, '-destination',end=' ')\n",
        "    return\n",
        "  visited[s]=True\n",
        "  print(s,end=' ')\n",
        "  for p in graph[s]:\n",
        "    if visited[p]==False:\n",
        "      DFS(p,dest,visited)\n",
        "\n",
        "def addedge(a,b):\n",
        "  graph[a].append(b)\n",
        "  graph[b].append(a)\n",
        "\n",
        "addedge(0, 1)\n",
        "addedge(0, 2)\n",
        "addedge(0, 3)\n",
        "addedge(1, 4)\n",
        "addedge(1, 5)\n",
        "addedge(2, 6)\n",
        "addedge(2, 7)\n",
        "addedge(3, 8)\n",
        "addedge(8, 9)\n",
        "addedge(8, 10)\n",
        "addedge(9, 11)\n",
        "addedge(9, 12)\n",
        "addedge(9, 13)\n",
        "source=int(input(\"Enter source : \"))\n",
        "destination=int(input(\"Enter destination : \"))\n",
        "depth=int(input('Enter depth Limit: '))\n",
        "DFS(source,destination,visited)\n"
      ],
      "metadata": {
        "id": "TABhOsqSkfNm",
        "colab": {
          "base_uri": "https://localhost:8080/"
        },
        "outputId": "df717ea8-95fa-4fec-9dbe-9d18472b2a96"
      },
      "execution_count": null,
      "outputs": [
        {
          "output_type": "stream",
          "name": "stdout",
          "text": [
            "Enter source : 0\n",
            "Enter destination : 12\n",
            "Enter depth Limit: 1\n",
            "0 1 4 5 2 6 7 3 8 9 11 12 -destination 13 10 "
          ]
        }
      ]
    },
    {
      "cell_type": "markdown",
      "source": [
        "**Lab - 5**"
      ],
      "metadata": {
        "id": "8a9JvNzoaLh8"
      }
    },
    {
      "cell_type": "code",
      "source": [
        "# Using a Python dictionary to act as an adjacency list\n",
        "graph = {\n",
        "  5 : [3,7],\n",
        "  3 : [2, 4],\n",
        "  7 : [8],\n",
        "  2 : [],\n",
        "  4 : [8],\n",
        "  8 : []\n",
        "}\n",
        "\n",
        "visited = set() # Set to keep track of visited nodes of graph.\n",
        "\n",
        "def dfs(visited, graph, node,key):  #function for dfs \n",
        "    if node not in visited:\n",
        "        print (node)\n",
        "        if(node==key):\n",
        "          return\n",
        "        visited.add(node)\n",
        "        for neighbour in graph[node]:\n",
        "          if(node==key):\n",
        "            break\n",
        "          dfs(visited, graph, neighbour,key)\n",
        "\n",
        "# Driver Code\n",
        "print(\"Following is the Depth-First Search\")\n",
        "dfs(visited, graph, 2,7)"
      ],
      "metadata": {
        "colab": {
          "base_uri": "https://localhost:8080/"
        },
        "id": "0HDY7a03aN-5",
        "outputId": "08ce1d3f-1f53-42d7-fd7a-d61e2c9799e9"
      },
      "execution_count": null,
      "outputs": [
        {
          "output_type": "stream",
          "name": "stdout",
          "text": [
            "Following is the Depth-First Search\n",
            "2\n"
          ]
        }
      ]
    },
    {
      "cell_type": "code",
      "source": [
        "#Depth Limit Search\n",
        "v=14\n",
        "graph=[[] for i in range(v)]\n",
        "visited=[False for i in range(v)]\n",
        "def DFS(s,dest,cur_depth,depth,visited):\n",
        "  if s==dest:\n",
        "    print(s, '-destination',end=' ')\n",
        "    return\n",
        "  visited[s]=True\n",
        "  print(s,end=' ')\n",
        "  for p in graph[s]:\n",
        "    if visited[p]==False and cur_depth<depth:\n",
        "      DFS(p,dest,cur_depth+1,depth,visited)\n",
        "\n",
        "def addedge(a,b):\n",
        "  graph[a].append(b)\n",
        "  graph[b].append(a)\n",
        "\n",
        "addedge(0, 1)\n",
        "addedge(0, 2)\n",
        "addedge(0, 3)\n",
        "addedge(1, 4)\n",
        "addedge(1, 5)\n",
        "addedge(2, 6)\n",
        "addedge(2, 7)\n",
        "addedge(3, 8)\n",
        "addedge(8, 9)\n",
        "addedge(8, 10)\n",
        "addedge(9, 11)\n",
        "addedge(9, 12)\n",
        "addedge(9, 13)\n",
        "source=int(input(\"Enter source : \"))\n",
        "destination=int(input(\"Enter destination : \"))\n",
        "depth=int(input('Enter depth Limit: '))\n",
        "DFS(source,destination,0,depth,visited)\n"
      ],
      "metadata": {
        "colab": {
          "base_uri": "https://localhost:8080/"
        },
        "id": "ZJWit3Ayf2pa",
        "outputId": "35b2be6f-0133-4800-e482-044afa2cfd78"
      },
      "execution_count": null,
      "outputs": [
        {
          "output_type": "stream",
          "name": "stdout",
          "text": [
            "Enter source : 0\n",
            "Enter destination : 3\n",
            "Enter depth Limit: 5\n",
            "0 1 4 5 2 6 7 3 -destination "
          ]
        }
      ]
    },
    {
      "cell_type": "markdown",
      "source": [
        "### **Lab-6 A**"
      ],
      "metadata": {
        "id": "Jf8Nm1YEa3X2"
      }
    },
    {
      "cell_type": "code",
      "source": [
        "# A* algorithm\n",
        "\n",
        "def A_star():\n",
        "\n",
        "\n"
      ],
      "metadata": {
        "id": "gov38XNwa2yo"
      },
      "execution_count": null,
      "outputs": []
    },
    {
      "cell_type": "code",
      "source": [
        "def aStarAlgo(start_node, stop_node):\n",
        "        open_set = set(start_node) \n",
        "        closed_set = set()\n",
        "        g = {} #store distance from starting node\n",
        "        parents = {}# parents contains an adjacency map of all nodes\n",
        "        g[start_node] = 0\n",
        "        parents[start_node] = start_node\n",
        "        while len(open_set) > 0:\n",
        "            n = None\n",
        "            for v in open_set:\n",
        "                if n == None or g[v] + heuristic(v) < g[n] + heuristic(n):\n",
        "                    n = v           \n",
        "            if n == stop_node or Graph_nodes[n] == None:\n",
        "                pass\n",
        "            else:\n",
        "                for (m, weight) in get_neighbors(n):\n",
        "\n",
        "                    if m not in open_set and m not in closed_set:\n",
        "                        open_set.add(m)\n",
        "                        parents[m] = n\n",
        "                        g[m] = g[n] + weight\n",
        "                    else:\n",
        "                        if g[m] > g[n] + weight:\n",
        "                            g[m] = g[n] + weight\n",
        "                            parents[m] = n\n",
        "                            if m in closed_set:\n",
        "                                closed_set.remove(m)\n",
        "                                open_set.add(m)\n",
        "            if n == None:\n",
        "                print('Path does not exist!')\n",
        "                return None\n",
        "            if n == stop_node:\n",
        "                path = []\n",
        "                while parents[n] != n:\n",
        "                    path.append(n)\n",
        "                    n = parents[n]\n",
        "                path.append(start_node)\n",
        "                path.reverse()\n",
        "                print('Path found: {}'.format(path))\n",
        "                return path\n",
        "            open_set.remove(n)\n",
        "            closed_set.add(n)\n",
        " \n",
        "        print('Path does not exist!')\n",
        "        return None\n",
        "def get_neighbors(v):\n",
        "    if v in Graph_nodes:\n",
        "        return Graph_nodes[v]\n",
        "    else:\n",
        "        return None\n",
        "def heuristic(n):\n",
        "        H_dist = {\n",
        "            'A': 11,\n",
        "            'B': 6,\n",
        "            'C': 99,\n",
        "            'D': 1,\n",
        "            'E': 7,\n",
        "            'G': 0,\n",
        "             \n",
        "        }\n",
        " \n",
        "        return H_dist[n]\n",
        "Graph_nodes = {\n",
        "    'A': [('B', 2), ('E', 3)],\n",
        "    'B': [('C', 1),('G', 9)],\n",
        "    'C': None,\n",
        "    'E': [('D', 6)],\n",
        "    'D': [('G', 1)],\n",
        "     \n",
        "}\n",
        "aStarAlgo('A', 'D')"
      ],
      "metadata": {
        "colab": {
          "base_uri": "https://localhost:8080/"
        },
        "id": "cDlSxE71clAh",
        "outputId": "bafe26b6-96c2-4495-c503-cf581d4e6768"
      },
      "execution_count": null,
      "outputs": [
        {
          "output_type": "stream",
          "name": "stdout",
          "text": [
            "Path found: ['A', 'E', 'D']\n"
          ]
        },
        {
          "output_type": "execute_result",
          "data": {
            "text/plain": [
              "['A', 'E', 'D']"
            ]
          },
          "metadata": {},
          "execution_count": 10
        }
      ]
    },
    {
      "cell_type": "code",
      "source": [
        "def aStarAlgo(start_node, stop_node):\n",
        "        open_set = set(start_node) \n",
        "        closed_set = set()\n",
        "        g = {} \n",
        "        parents = {}\n",
        "        g[start_node] = 0\n",
        "        parents[start_node] = start_node\n",
        "        while len(open_set) > 0:\n",
        "            n = None\n",
        "            for v in open_set:\n",
        "                if n == None or g[v] + heuristic(v) < g[n] + heuristic(n):\n",
        "                    n = v           \n",
        "            if n == stop_node or Graph_nodes[n] == None:\n",
        "                pass\n",
        "            else:\n",
        "                for (m, weight) in get_neighbors(n):\n",
        "\n",
        "                    if m not in open_set and m not in closed_set:\n",
        "                        open_set.add(m)\n",
        "                        parents[m] = n\n",
        "                        g[m] = g[n] + weight\n",
        "                    else:\n",
        "                        if g[m] > g[n] + weight:\n",
        "                            g[m] = g[n] + weight\n",
        "                            parents[m] = n\n",
        "                            if m in closed_set:\n",
        "                                closed_set.remove(m)\n",
        "                                open_set.add(m)\n",
        "            if n == None:\n",
        "                print('Path does not exist!')\n",
        "                return None\n",
        "            if n == stop_node:\n",
        "                path = []\n",
        "                while parents[n] != n:\n",
        "                    path.append(n)\n",
        "                    n = parents[n]\n",
        "                path.append(start_node)\n",
        "                path.reverse()\n",
        "                print('Path found: {}'.format(path))\n",
        "                return path\n",
        "            open_set.remove(n)\n",
        "            closed_set.add(n)\n",
        " \n",
        "        print('Path does not exist!')\n",
        "        return None\n",
        "def get_neighbors(v):\n",
        "    if v in Graph_nodes:\n",
        "        return Graph_nodes[v]\n",
        "    else:\n",
        "        return None\n",
        "def heuristic(n):\n",
        "        H_dist = {\n",
        "            'A': 11,\n",
        "            'B': 6,\n",
        "            'C': 99,\n",
        "            'D': 1,\n",
        "            'E': 7,\n",
        "            'G': 0,\n",
        "             \n",
        "        }\n",
        " \n",
        "        return H_dist[n]\n",
        "\"\"\"\n",
        "Graph_nodes = {\n",
        "    'A': [('B', 2), ('E', 3)],\n",
        "    'B': [('C', 1),('G', 9)],\n",
        "    'C': None,\n",
        "    'E': [('D', 6)],\n",
        "    'D': [('G', 1)],\n",
        "     \n",
        "}\n",
        "\"\"\"\n",
        "Graph_nodes={}\n",
        "def addEdge(parent,child,cost):\n",
        "  if parent in Graph_nodes:\n",
        "    Graph_nodes[parent]+=[tuple([child,cost])]\n",
        "  else:\n",
        "    Graph_nodes[parent]=[]\n",
        "    Graph_nodes[parent]+=[tuple([child,cost])]\n",
        "\n",
        "addEdge('A','B',2)\n",
        "addEdge('A','E',3)\n",
        "addEdge('B','C',1)\n",
        "addEdge('B','G',6)\n",
        "addEdge('E','D',7)\n",
        "addEdge('D','G',0)\n",
        "print(Graph_nodes)\n",
        "aStarAlgo('A', 'G')"
      ],
      "metadata": {
        "colab": {
          "base_uri": "https://localhost:8080/"
        },
        "id": "47xP3Rzwn8n7",
        "outputId": "a04cd009-1cce-4fef-b8a5-601edbad8a05"
      },
      "execution_count": null,
      "outputs": [
        {
          "output_type": "stream",
          "name": "stdout",
          "text": [
            "{'A': [('B', 2), ('E', 3)], 'B': [('C', 1), ('G', 6)], 'E': [('D', 7)], 'D': [('G', 0)]}\n",
            "Path found: ['A', 'B', 'G']\n"
          ]
        },
        {
          "output_type": "execute_result",
          "data": {
            "text/plain": [
              "['A', 'B', 'G']"
            ]
          },
          "metadata": {},
          "execution_count": 33
        }
      ]
    },
    {
      "cell_type": "code",
      "source": [],
      "metadata": {
        "id": "9v_UIS4Bjmo1"
      },
      "execution_count": null,
      "outputs": []
    },
    {
      "cell_type": "code",
      "source": [
        "global N\n",
        "N = 8\n",
        "def printSolution(board):\n",
        "\tfor i in range(N):\n",
        "\t\tfor j in range(N):\n",
        "\t\t\tprint (board[i][j],end=' ')\n",
        "\t\tprint()\n",
        "board = [ [0, 0, 0, 0,0, 0, 0, 0],\n",
        "\t\t\t[0, 0, 0, 0,0, 0, 0, 0],\n",
        "\t\t\t[0, 0, 0, 0,0, 0, 0, 0],\n",
        "\t\t\t[0, 0, 0, 0,0, 0, 0, 0],\n",
        "\t\t\t[0, 0, 0, 0,0, 0, 0, 0],\n",
        "\t\t\t[0, 0, 0, 0,0, 0, 0, 0],\n",
        "\t\t\t[0, 0, 0, 0,0, 0, 0, 0],\n",
        "\t\t\t[0, 0, 0, 0,0, 0, 0, 0]\n",
        "\t\t\t]\n",
        "\n",
        "def isSafe(board, row, col):\n",
        "\tfor i in range(col):\n",
        "\t\tif board[row][i] == 1:\n",
        "\t\t\treturn False\n",
        "\tfor i, j in zip(range(row, -1, -1), range(col, -1, -1)):\n",
        "\t\tif board[i][j] == 1:\n",
        "\t\t\treturn False\n",
        "\tfor i, j in zip(range(row, N, 1), range(col, -1, -1)):\n",
        "\t\tif board[i][j] == 1:\n",
        "\t\t\treturn False\n",
        "\treturn True\n",
        "\n",
        "def solveNQUtil(board,add col):\n",
        "\tif col >= N:\n",
        "\t\treturn True\n",
        "\tfor i in range(N):\n",
        "\t\tif isSafe(board, i, col):\n",
        "\t\t\tboard[i][col] = 1\n",
        "\t\t\tif solveNQUtil(board,col + 1) == True:\n",
        "\t\t\t\treturn True\n",
        "\t\t\tboard[i][col] = 0\n",
        "\treturn False\n",
        "def solveNQ():\n",
        "\tsolveNQUtil(board, 0)\n",
        "\tprintSolution(board)\n",
        "solveNQ()"
      ],
      "metadata": {
        "colab": {
          "base_uri": "https://localhost:8080/"
        },
        "id": "AhJlCgLKjmwq",
        "outputId": "7249273f-ff15-47ab-89e4-0dc33393afd1"
      },
      "execution_count": null,
      "outputs": [
        {
          "output_type": "stream",
          "name": "stdout",
          "text": [
            "1 0 0 0 0 0 0 0 \n",
            "0 0 0 0 0 0 1 0 \n",
            "0 0 0 0 1 0 0 0 \n",
            "0 0 0 0 0 0 0 1 \n",
            "0 1 0 0 0 0 0 0 \n",
            "0 0 0 1 0 0 0 0 \n",
            "0 0 0 0 0 1 0 0 \n",
            "0 0 1 0 0 0 0 0 \n"
          ]
        }
      ]
    },
    {
      "cell_type": "markdown",
      "source": [
        "**4 Qeens Problem**"
      ],
      "metadata": {
        "id": "kqdqvt4Kjohk"
      }
    },
    {
      "cell_type": "code",
      "source": [
        "# 4 Qeens Problem\n",
        "N=4\n",
        "board=[[0,0,0,0]]*4\n",
        "print(board)\n",
        "\n",
        "def isSafe(board, row, col):\n",
        "\tfor i in range(col):\n",
        "\t\tif board[row][i] == 1:\n",
        "\t\t\treturn False\n",
        "\tfor i, j in zip(range(row, -1, -1), range(col, -1, -1)):\n",
        "\t\tif board[i][j] == 1:\n",
        "\t\t\treturn False\n",
        "\tfor i, j in zip(range(row, N, 1), range(col, -1, -1)):\n",
        "\t\tif board[i][j] == 1:\n",
        "\t\t\treturn False\n",
        "\treturn True\n",
        "\n",
        "def solve(board, col):\n",
        "\tif col >= N:\n",
        "\t\treturn True\n",
        "\tfor i in range(N):\n",
        "\t\tif isSafe(board, i, col):\n",
        "\t\t\tboard[i][col] = 1\n",
        "\t\t\tif solveNQUtil(board,col + 1) == True:\n",
        "\t\t\t\treturn True\n",
        "\t\t\tboard[i][col] = 0\n",
        "\treturn False\n",
        "\n",
        "def solveNQ():\n",
        "\tsolve(board, 0)\n",
        "solveNQ()\n",
        "print(board)"
      ],
      "metadata": {
        "colab": {
          "base_uri": "https://localhost:8080/"
        },
        "id": "MWaG_MFrjxgT",
        "outputId": "1f053ca2-2ff3-4af7-d929-f336ca22ab97"
      },
      "execution_count": null,
      "outputs": [
        {
          "output_type": "stream",
          "name": "stdout",
          "text": [
            "[[0, 0, 0, 0], [0, 0, 0, 0], [0, 0, 0, 0], [0, 0, 0, 0]]\n",
            "[[0, 0, 0, 0], [0, 0, 0, 0], [0, 0, 0, 0], [0, 0, 0, 0]]\n"
          ]
        }
      ]
    },
    {
      "cell_type": "code",
      "source": [],
      "metadata": {
        "id": "accjJ5bXuAcL"
      },
      "execution_count": null,
      "outputs": []
    },
    {
      "cell_type": "code",
      "source": [],
      "metadata": {
        "id": "8W2ydijfqF8Y"
      },
      "execution_count": null,
      "outputs": []
    },
    {
      "cell_type": "markdown",
      "source": [
        "**Graph Coloring**"
      ],
      "metadata": {
        "id": "oOTJJfakqGKn"
      }
    },
    {
      "cell_type": "code",
      "source": [
        "\n",
        "\n",
        "def isSafe(graph, color):\n",
        "\tfor i in range(4):\n",
        "\t\tfor j in range(i + 1, 4):\n",
        "\t\t\tif (graph[i][j] and color[j] == color[i]):\n",
        "\t\t\t\treturn False\n",
        "\treturn True\n",
        "\n",
        "\n",
        "def graphColoring(graph, m, i, color):\n",
        "\tif (i == 4):\n",
        "\t\tif (isSafe(graph, color)):\n",
        "\t\t\tprintSolution(color)\n",
        "\t\t\treturn True\n",
        "\t\treturn False\n",
        "\tfor j in range(1, m + 1):\n",
        "\t\tcolor[i] = j\n",
        "\t\tif (graphColoring(graph, m, i + 1, color)):\n",
        "\t\t\treturn True\n",
        "\t\tcolor[i] = 0\n",
        "\treturn False\n",
        "\n",
        "\n",
        "def printSolution(color):\n",
        "\tprint(\"Solution Exists:\" \" Following are the assigned colors \")\n",
        "\tfor i in range(4):\n",
        "\t\tprint(color[i], end=\" \")\n",
        "\n",
        "if __name__ == '__main__':\n",
        "\tgraph = [\n",
        "\t\t[0, 1, 1, 1],\n",
        "\t\t[1, 0, 0, 1],\n",
        "\t\t[1, 0, 0, 1],\n",
        "\t\t[1, 1, 1, 0],\n",
        "\t]\n",
        "\tm = 3 \n",
        "\tcolor = [0 for i in range(4)]\n",
        "\tif (not graphColoring(graph, m, 0, color)):\n",
        "\t\tprint(\"Solution does not exist\")"
      ],
      "metadata": {
        "colab": {
          "base_uri": "https://localhost:8080/"
        },
        "id": "vlJv5nCuqOGG",
        "outputId": "22efa21a-5f98-4dbc-ae90-ba929b3ae84a"
      },
      "execution_count": null,
      "outputs": [
        {
          "output_type": "stream",
          "name": "stdout",
          "text": [
            "Solution Exists: Following are the assigned colors \n",
            "1 2 2 3 "
          ]
        }
      ]
    }
  ]
}